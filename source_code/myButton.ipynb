{
 "cells": [
  {
   "cell_type": "code",
   "execution_count": 2,
   "metadata": {},
   "outputs": [],
   "source": [
    "from tkinter import*"
   ]
  },
  {
   "cell_type": "code",
   "execution_count": 3,
   "metadata": {},
   "outputs": [
    {
     "name": "stdout",
     "output_type": "stream",
     "text": [
      "나를 호출했군요...\n",
      "내가 실행될 코드입니다.\n"
     ]
    }
   ],
   "source": [
    "def f1():\n",
    "    print(\"나를 호출했군요...\")\n",
    "    print(\"내가 실행될 코드입니다.\")\n",
    "\n",
    "f1()"
   ]
  },
  {
   "cell_type": "code",
   "execution_count": 5,
   "metadata": {},
   "outputs": [
    {
     "name": "stdout",
     "output_type": "stream",
     "text": [
      "나는 f2 입니다....\n",
      "내가 실행될 코드입니다.\n",
      "=========================\n",
      "나는 f3 입니다...\n",
      "내가 실행될 코드입니다.\n"
     ]
    }
   ],
   "source": [
    "def f2():\n",
    "    print(\"나는 f2 입니다....\")\n",
    "    print(\"내가 실행될 코드입니다.\")\n",
    "def f3():\n",
    "    print(\"나는 f3 입니다...\")\n",
    "    print(\"내가 실행될 코드입니다.\")\n",
    "\n",
    "f2()\n",
    "print(\"=========================\")\n",
    "f3()"
   ]
  },
  {
   "cell_type": "code",
   "execution_count": 20,
   "metadata": {},
   "outputs": [
    {
     "name": "stdout",
     "output_type": "stream",
     "text": [
      "버튼을 누르셨군요.\n",
      "300\n"
     ]
    }
   ],
   "source": [
    "def call(event):\n",
    "    print(\"버튼을 누르셨군요.\")\n",
    "    a = 100\n",
    "    b = 200\n",
    "    print(a+b)\n",
    "    l[\"text\"] = \"나로 바꿔요\"\n",
    "    \n",
    "w= Tk()\n",
    "b = Button(w, text = \"합계를 구해주세요\")\n",
    "b.pack()\n",
    "b. bind(\"<Button-1>\", call)\n",
    "\n",
    "l = Label(w, text=\"반갑습니다...\", bg = \"white\", font = (\"궁서체\", 30))\n",
    "l.pack()\n",
    "\n",
    "\n",
    "w. mainloop()"
   ]
  },
  {
   "cell_type": "code",
   "execution_count": null,
   "metadata": {
    "collapsed": true
   },
   "outputs": [],
   "source": []
  }
 ],
 "metadata": {
  "kernelspec": {
   "display_name": "Python 3",
   "language": "python",
   "name": "python3"
  },
  "language_info": {
   "codemirror_mode": {
    "name": "ipython",
    "version": 3
   },
   "file_extension": ".py",
   "mimetype": "text/x-python",
   "name": "python",
   "nbconvert_exporter": "python",
   "pygments_lexer": "ipython3",
   "version": "3.6.2"
  }
 },
 "nbformat": 4,
 "nbformat_minor": 2
}
