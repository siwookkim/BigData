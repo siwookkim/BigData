{
 "cells": [
  {
   "cell_type": "code",
   "execution_count": 7,
   "metadata": {},
   "outputs": [
    {
     "name": "stdout",
     "output_type": "stream",
     "text": [
      "1부터 100사이의 숫자를 맞추어주세요.\n",
      "숫자를 입력하세요....22\n",
      "정답이 아닙니다.\n",
      "너무작음!!!\n",
      "숫자를 입력하세요....33\n",
      "정답이 아닙니다.\n",
      "너무작음!!!\n",
      "숫자를 입력하세요....44\n",
      "정답이 아닙니다.\n",
      "너무 큼!!!\n",
      "숫자를 입력하세요....42\n",
      "정답이 아닙니다.\n",
      "너무 큼!!!\n",
      "숫자를 입력하세요....41\n",
      "정답이 아닙니다.\n",
      "너무 큼!!!\n",
      "숫자를 입력하세요....39\n",
      "정답이 아닙니다.\n",
      "너무 큼!!!\n",
      "숫자를 입력하세요....37\n",
      "정답이 아닙니다.\n",
      "너무 큼!!!\n",
      "숫자를 입력하세요....30\n",
      "정답이 아닙니다.\n",
      "너무작음!!!\n",
      "숫자를 입력하세요....32\n",
      "정답이 아닙니다.\n",
      "너무작음!!!\n",
      "숫자를 입력하세요....34\n",
      "정답입니다.\n"
     ]
    }
   ],
   "source": [
    "import random\n",
    "number2 = random.randint(1,100)\n",
    "number2\n",
    "print(\"1부터 100사이의 숫자를 맞추어주세요.\")\n",
    "tries = 0\n",
    "while tries < 10 :\n",
    "    guess = int(input(\"숫자를 입력하세요....\"))\n",
    "    tries += 1\n",
    "    if guess == number2:\n",
    "        print(\"정답입니다.\")\n",
    "        break\n",
    "    else :\n",
    "        print(\"정답이 아닙니다.\")\n",
    "        if guess < number2 :\n",
    "            print(\"너무작음!!!\")\n",
    "        elif guess > number2 :\n",
    "            print(\"너무 큼!!!\")\n",
    "        else :\n",
    "                print(\"...\")"
   ]
  },
  {
   "cell_type": "code",
   "execution_count": null,
   "metadata": {
    "collapsed": true
   },
   "outputs": [],
   "source": []
  }
 ],
 "metadata": {
  "kernelspec": {
   "display_name": "Python 3",
   "language": "python",
   "name": "python3"
  },
  "language_info": {
   "codemirror_mode": {
    "name": "ipython",
    "version": 3
   },
   "file_extension": ".py",
   "mimetype": "text/x-python",
   "name": "python",
   "nbconvert_exporter": "python",
   "pygments_lexer": "ipython3",
   "version": "3.6.2"
  }
 },
 "nbformat": 4,
 "nbformat_minor": 2
}
